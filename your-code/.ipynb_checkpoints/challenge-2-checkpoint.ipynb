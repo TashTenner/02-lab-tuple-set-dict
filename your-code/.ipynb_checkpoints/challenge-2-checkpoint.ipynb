{
 "cells": [
  {
   "cell_type": "markdown",
   "metadata": {},
   "source": [
    "## Challenge 2: Sets\n",
    "\n",
    "There are a lot to learn about Python Sets and the information presented in the lesson is limited due to its length. To learn Python Sets in depth you are strongly encouraged to review the W3Schools tutorial on [Python Sets Examples and Methods](https://www.w3schools.com/python/python_sets.asp) before you work on this lab. Some difficult questions in this lab have their solutions in the W3Schools tutorial.\n",
    "\n",
    "#### First, import the Python `random` libary"
   ]
  },
  {
   "cell_type": "code",
   "execution_count": 1,
   "metadata": {},
   "outputs": [],
   "source": [
    "import random"
   ]
  },
  {
   "cell_type": "markdown",
   "metadata": {},
   "source": [
    "#### In the cell below, create a list named `sample_list_1` with 80 random values. \n",
    "\n",
    "Requirements:\n",
    "\n",
    "* Each value is an integer falling between 0 and 100.\n",
    "* Each value in the list is unique.\n",
    "\n",
    "Print `sample_list_1` to review its values\n",
    "\n",
    "*Hint: use `random.sample` ([reference](https://docs.python.org/3/library/random.html#random.sample)).*"
   ]
  },
  {
   "cell_type": "code",
   "execution_count": 2,
   "metadata": {},
   "outputs": [
    {
     "name": "stdout",
     "output_type": "stream",
     "text": [
      "[24, 95, 10, 69, 42, 56, 54, 32, 37, 93, 51, 0, 48, 100, 88, 92, 72, 26, 12, 29, 62, 45, 70, 77, 38, 6, 49, 84, 20, 9, 57, 65, 86, 3, 7, 44, 79, 67, 19, 74, 25, 14, 96, 55, 15, 80, 81, 90, 89, 97, 98, 17, 5, 8, 40, 91, 4, 43, 31, 53, 11, 52, 21, 41, 36, 68, 46, 76, 22, 75, 73, 78, 59, 1, 94, 39, 30, 28, 64, 33]\n"
     ]
    }
   ],
   "source": [
    "temp_list = [x for x in range(101)]\n",
    "sample_list_1 = random.sample(temp_list,80)\n",
    "print(sample_list_1)"
   ]
  },
  {
   "cell_type": "markdown",
   "metadata": {},
   "source": [
    "#### Convert `sample_list_1` to a set called `set1`. Print the length of the set. Is its length still 80?"
   ]
  },
  {
   "cell_type": "code",
   "execution_count": 3,
   "metadata": {},
   "outputs": [
    {
     "name": "stdout",
     "output_type": "stream",
     "text": [
      "{0, 1, 3, 4, 5, 6, 7, 8, 9, 10, 11, 12, 14, 15, 17, 19, 20, 21, 22, 24, 25, 26, 28, 29, 30, 31, 32, 33, 36, 37, 38, 39, 40, 41, 42, 43, 44, 45, 46, 48, 49, 51, 52, 53, 54, 55, 56, 57, 59, 62, 64, 65, 67, 68, 69, 70, 72, 73, 74, 75, 76, 77, 78, 79, 80, 81, 84, 86, 88, 89, 90, 91, 92, 93, 94, 95, 96, 97, 98, 100}\n",
      "80\n"
     ]
    }
   ],
   "source": [
    "set1 = set(sample_list_1)\n",
    "print(set1)\n",
    "print(len(set1))"
   ]
  },
  {
   "cell_type": "markdown",
   "metadata": {},
   "source": [
    "#### Create another list named `sample_list_2` with 80 random values.\n",
    "\n",
    "Requirements:\n",
    "\n",
    "* Each value is an integer falling between 0 and 100.\n",
    "* The values in the list don't have to be unique.\n",
    "\n",
    "*Hint: Use a FOR loop.*"
   ]
  },
  {
   "cell_type": "code",
   "execution_count": 4,
   "metadata": {},
   "outputs": [
    {
     "name": "stdout",
     "output_type": "stream",
     "text": [
      "[64, 87, 19, 95, 77, 97, 24, 79, 9, 55, 60, 67, 43, 33, 48, 94, 95, 98, 81, 19, 11, 99, 89, 1, 78, 64, 45, 50, 36, 64, 23, 62, 46, 90, 2, 43, 91, 80, 16, 26, 18, 33, 51, 23, 43, 36, 51, 34, 46, 40, 78, 82, 39, 48, 81, 63, 76, 37, 52, 17, 31, 78, 81, 31, 54, 71, 94, 46, 39, 64, 16, 21, 38, 91, 37, 5, 78, 46, 11, 39]\n",
      "80\n"
     ]
    }
   ],
   "source": [
    "sample_list_2 = []\n",
    "\n",
    "for x in temp_list:\n",
    "    y = random.choice(temp_list)\n",
    "    if len(sample_list_2) < 80:\n",
    "        sample_list_2.append(y)\n",
    "    else:\n",
    "        break\n",
    "\n",
    "print(sample_list_2)\n",
    "print(len(sample_list_2))\n",
    "    \n",
    "# sample() does not produce repeating elements, while random. choices() does. \n",
    "# In your example, both methods have repeating values because you have repeating values in the \n",
    "# original sequence, but, in the case of random\n",
    "\n",
    "# https://www.w3schools.com/python/ref_random_choices.asp\n",
    "\n",
    "# sample_list_2 = random.choices(range(101),k = 80)\n",
    "# print(sample_list_2)"
   ]
  },
  {
   "cell_type": "markdown",
   "metadata": {},
   "source": [
    "#### Convert `sample_list_2` to a set called `set2`. Print the length of the set. Is its length still 80?"
   ]
  },
  {
   "cell_type": "code",
   "execution_count": 5,
   "metadata": {},
   "outputs": [
    {
     "name": "stdout",
     "output_type": "stream",
     "text": [
      "{1, 2, 5, 9, 11, 16, 17, 18, 19, 21, 23, 24, 26, 31, 33, 34, 36, 37, 38, 39, 40, 43, 45, 46, 48, 50, 51, 52, 54, 55, 60, 62, 63, 64, 67, 71, 76, 77, 78, 79, 80, 81, 82, 87, 89, 90, 91, 94, 95, 97, 98, 99}\n",
      "52\n"
     ]
    }
   ],
   "source": [
    "set2 = set(sample_list_2)\n",
    "print(set2)\n",
    "print(len(set2))"
   ]
  },
  {
   "cell_type": "markdown",
   "metadata": {},
   "source": [
    "#### Identify the elements present in `set1` but not in `set2`. Assign the elements to a new set named `set3`."
   ]
  },
  {
   "cell_type": "code",
   "execution_count": 6,
   "metadata": {},
   "outputs": [
    {
     "name": "stdout",
     "output_type": "stream",
     "text": [
      "{0, 3, 4, 6, 7, 8, 10, 12, 14, 15, 20, 22, 25, 28, 29, 30, 32, 41, 42, 44, 49, 53, 56, 57, 59, 65, 68, 69, 70, 72, 73, 74, 75, 84, 86, 88, 92, 93, 96, 100}\n"
     ]
    }
   ],
   "source": [
    "set3 = set1 - set2\n",
    "print(set3)"
   ]
  },
  {
   "cell_type": "markdown",
   "metadata": {},
   "source": [
    "#### Identify the elements present in `set2` but not in `set1`. Assign the elements to a new set named `set4`."
   ]
  },
  {
   "cell_type": "code",
   "execution_count": 7,
   "metadata": {},
   "outputs": [
    {
     "name": "stdout",
     "output_type": "stream",
     "text": [
      "{2, 34, 99, 71, 16, 18, 50, 82, 87, 23, 60, 63}\n"
     ]
    }
   ],
   "source": [
    "set4 = set2 - set1\n",
    "print(set4)"
   ]
  },
  {
   "cell_type": "markdown",
   "metadata": {},
   "source": [
    "#### Now Identify the elements shared between `set1` and `set2`. Assign the elements to a new set named `set5`."
   ]
  },
  {
   "cell_type": "code",
   "execution_count": 8,
   "metadata": {},
   "outputs": [
    {
     "name": "stdout",
     "output_type": "stream",
     "text": [
      "{1, 5, 9, 11, 17, 19, 21, 24, 26, 31, 33, 36, 37, 38, 39, 40, 43, 45, 46, 48, 51, 52, 54, 55, 62, 64, 67, 76, 77, 78, 79, 80, 81, 89, 90, 91, 94, 95, 97, 98}\n"
     ]
    }
   ],
   "source": [
    "set5 = set1.intersection(set2)\n",
    "# union: set6 = set1 and set2\n",
    "# union: set7 = set1.union(set2)\n",
    "\n",
    "print(set5)\n",
    "\n",
    "# list_set6 = []\n",
    "# for i in set2:\n",
    "    # if i in set1:\n",
    "        # list_set6.append(i)\n",
    "# print('---')\n",
    "# print(list_set6)\n",
    "# print('---')\n",
    "# set7 = set(list_set6)\n",
    "# print(set7)"
   ]
  },
  {
   "cell_type": "markdown",
   "metadata": {},
   "source": [
    "#### What is the relationship among the following values:\n",
    "\n",
    "* len(set1)\n",
    "* len(set2)\n",
    "* len(set3)\n",
    "* len(set4)\n",
    "* len(set5)\n",
    "\n",
    "Use a math formular to represent that relationship. Test your formular with Python code."
   ]
  },
  {
   "cell_type": "code",
   "execution_count": 9,
   "metadata": {},
   "outputs": [
    {
     "name": "stdout",
     "output_type": "stream",
     "text": [
      "80\n",
      "52\n",
      "40\n",
      "12\n",
      "40\n",
      "---\n",
      "len(set2) 52 is equal to len(set4)+len(set5) 52\n"
     ]
    }
   ],
   "source": [
    "print(len(set1))\n",
    "print(len(set2))\n",
    "print(len(set3))\n",
    "print(len(set4))\n",
    "print(len(set5))\n",
    "print('---')\n",
    "print('len(set2) ' + str(len(set2)) + ' is equal to len(set4)+len(set5) ' + str(len(set4)+len(set5))) "
   ]
  },
  {
   "cell_type": "markdown",
   "metadata": {},
   "source": [
    "#### Create an empty set called `set6`."
   ]
  },
  {
   "cell_type": "code",
   "execution_count": 10,
   "metadata": {},
   "outputs": [
    {
     "name": "stdout",
     "output_type": "stream",
     "text": [
      "set()\n"
     ]
    }
   ],
   "source": [
    "set6 = set()\n",
    "print(set6)\n",
    "\n",
    "# https://www.w3resource.com/python-exercises/sets/python-sets-exercise-1.php"
   ]
  },
  {
   "cell_type": "markdown",
   "metadata": {},
   "source": [
    "#### Add `set3` and `set5` to `set6` using the Python Set `update` method."
   ]
  },
  {
   "cell_type": "code",
   "execution_count": 11,
   "metadata": {},
   "outputs": [
    {
     "name": "stdout",
     "output_type": "stream",
     "text": [
      "{0, 1, 3, 4, 5, 6, 7, 8, 9, 10, 11, 12, 14, 15, 17, 19, 20, 21, 22, 24, 25, 26, 28, 29, 30, 31, 32, 33, 36, 37, 38, 39, 40, 41, 42, 43, 44, 45, 46, 48, 49, 51, 52, 53, 54, 55, 56, 57, 59, 62, 64, 65, 67, 68, 69, 70, 72, 73, 74, 75, 76, 77, 78, 79, 80, 81, 84, 86, 88, 89, 90, 91, 92, 93, 94, 95, 96, 97, 98, 100}\n"
     ]
    }
   ],
   "source": [
    "set6.update(set3)\n",
    "set6.update(set5)\n",
    "print(set6)"
   ]
  },
  {
   "cell_type": "markdown",
   "metadata": {},
   "source": [
    "#### Check if `set1` and `set6` are equal."
   ]
  },
  {
   "cell_type": "code",
   "execution_count": 12,
   "metadata": {},
   "outputs": [
    {
     "name": "stdout",
     "output_type": "stream",
     "text": [
      "80\n",
      "80\n",
      "---\n",
      "{0, 1, 3, 4, 5, 6, 7, 8, 9, 10, 11, 12, 14, 15, 17, 19, 20, 21, 22, 24, 25, 26, 28, 29, 30, 31, 32, 33, 36, 37, 38, 39, 40, 41, 42, 43, 44, 45, 46, 48, 49, 51, 52, 53, 54, 55, 56, 57, 59, 62, 64, 65, 67, 68, 69, 70, 72, 73, 74, 75, 76, 77, 78, 79, 80, 81, 84, 86, 88, 89, 90, 91, 92, 93, 94, 95, 96, 97, 98, 100}\n",
      "---\n",
      "{0, 1, 3, 4, 5, 6, 7, 8, 9, 10, 11, 12, 14, 15, 17, 19, 20, 21, 22, 24, 25, 26, 28, 29, 30, 31, 32, 33, 36, 37, 38, 39, 40, 41, 42, 43, 44, 45, 46, 48, 49, 51, 52, 53, 54, 55, 56, 57, 59, 62, 64, 65, 67, 68, 69, 70, 72, 73, 74, 75, 76, 77, 78, 79, 80, 81, 84, 86, 88, 89, 90, 91, 92, 93, 94, 95, 96, 97, 98, 100}\n",
      "---\n",
      "True\n"
     ]
    }
   ],
   "source": [
    "print(len(set1))\n",
    "print(len(set6))\n",
    "\n",
    "# https://www.w3schools.com/python/ref_func_all.asp#:~:text=The%20all()%20function%20returns,()%20function%20also%20returns%20True.\n",
    "# http://theautomatic.net/2019/05/29/all-about-python-sets/#:~:text=How%20to%20test%20if%20two,normal%20%E2%80%9C%3D%3D%E2%80%9D%20operator.&text=Notice%20%E2%80%93%20since%20sets%20are%20unordered,are%20in%20a%20different%20order.\n",
    "\n",
    "print('---')\n",
    "print(set1)\n",
    "print('---')\n",
    "print(set6)\n",
    "print('---')\n",
    "\n",
    "print(set1 == set6)\n"
   ]
  },
  {
   "cell_type": "markdown",
   "metadata": {},
   "source": [
    "#### Check if `set1` contains `set2` using the Python Set `issubset` method. Then check if `set1` contains `set3`.*"
   ]
  },
  {
   "cell_type": "code",
   "execution_count": 13,
   "metadata": {},
   "outputs": [
    {
     "name": "stdout",
     "output_type": "stream",
     "text": [
      "False\n",
      "True\n"
     ]
    }
   ],
   "source": [
    "# https://www.w3schools.com/python/ref_set_issubset.asp\n",
    "# Return True if all items in set2 are present in set1\n",
    "\n",
    "a = set2.issubset(set1)\n",
    "b = set3.issubset(set1)\n",
    "\n",
    "print(a)\n",
    "print(b)"
   ]
  },
  {
   "cell_type": "markdown",
   "metadata": {},
   "source": [
    "#### Using the Python Set `union` method, aggregate `set3`, `set4`, and `set5`. Then aggregate `set1` and `set2`. \n",
    "\n",
    "#### Check if the aggregated values are equal."
   ]
  },
  {
   "cell_type": "code",
   "execution_count": 14,
   "metadata": {},
   "outputs": [
    {
     "name": "stdout",
     "output_type": "stream",
     "text": [
      "{0, 1, 2, 3, 4, 5, 6, 7, 8, 9, 10, 11, 12, 14, 15, 16, 17, 18, 19, 20, 21, 22, 23, 24, 25, 26, 28, 29, 30, 31, 32, 33, 34, 36, 37, 38, 39, 40, 41, 42, 43, 44, 45, 46, 48, 49, 50, 51, 52, 53, 54, 55, 56, 57, 59, 60, 62, 63, 64, 65, 67, 68, 69, 70, 71, 72, 73, 74, 75, 76, 77, 78, 79, 80, 81, 82, 84, 86, 87, 88, 89, 90, 91, 92, 93, 94, 95, 96, 97, 98, 99, 100}\n",
      "---\n",
      "{0, 1, 2, 3, 4, 5, 6, 7, 8, 9, 10, 11, 12, 14, 15, 16, 17, 18, 19, 20, 21, 22, 23, 24, 25, 26, 28, 29, 30, 31, 32, 33, 34, 36, 37, 38, 39, 40, 41, 42, 43, 44, 45, 46, 48, 49, 50, 51, 52, 53, 54, 55, 56, 57, 59, 60, 62, 63, 64, 65, 67, 68, 69, 70, 71, 72, 73, 74, 75, 76, 77, 78, 79, 80, 81, 82, 84, 86, 87, 88, 89, 90, 91, 92, 93, 94, 95, 96, 97, 98, 99, 100}\n",
      "---\n",
      "True\n"
     ]
    }
   ],
   "source": [
    "set7 = set3.union(set4, set5)\n",
    "set8 = set1.union(set2)\n",
    "\n",
    "print(set7)\n",
    "print('---')\n",
    "print(set8)\n",
    "print('---')\n",
    "print(set7 == set8)"
   ]
  },
  {
   "cell_type": "markdown",
   "metadata": {},
   "source": [
    "#### Using the `pop` method, remove the first element from `set1`."
   ]
  },
  {
   "cell_type": "code",
   "execution_count": 15,
   "metadata": {},
   "outputs": [
    {
     "name": "stdout",
     "output_type": "stream",
     "text": [
      "{0, 1, 3, 4, 5, 6, 7, 8, 9, 10, 11, 12, 14, 15, 17, 19, 20, 21, 22, 24, 25, 26, 28, 29, 30, 31, 32, 33, 36, 37, 38, 39, 40, 41, 42, 43, 44, 45, 46, 48, 49, 51, 52, 53, 54, 55, 56, 57, 59, 62, 64, 65, 67, 68, 69, 70, 72, 73, 74, 75, 76, 77, 78, 79, 80, 81, 84, 86, 88, 89, 90, 91, 92, 93, 94, 95, 96, 97, 98, 100}\n",
      "0\n",
      "{1, 3, 4, 5, 6, 7, 8, 9, 10, 11, 12, 14, 15, 17, 19, 20, 21, 22, 24, 25, 26, 28, 29, 30, 31, 32, 33, 36, 37, 38, 39, 40, 41, 42, 43, 44, 45, 46, 48, 49, 51, 52, 53, 54, 55, 56, 57, 59, 62, 64, 65, 67, 68, 69, 70, 72, 73, 74, 75, 76, 77, 78, 79, 80, 81, 84, 86, 88, 89, 90, 91, 92, 93, 94, 95, 96, 97, 98, 100}\n"
     ]
    }
   ],
   "source": [
    "print(set1)\n",
    "x = set1.pop()\n",
    "print(x)\n",
    "print(set1)"
   ]
  },
  {
   "cell_type": "markdown",
   "metadata": {},
   "source": [
    "#### Remove every element in the following list from `set1` if they are present in the set. Print the remaining elements.\n",
    "\n",
    "```\n",
    "list_to_remove = [1, 9, 11, 19, 21, 29, 31, 39, 41, 49, 51, 59, 61, 69, 71, 79, 81, 89, 91, 99]\n",
    "```"
   ]
  },
  {
   "cell_type": "code",
   "execution_count": 16,
   "metadata": {},
   "outputs": [
    {
     "name": "stdout",
     "output_type": "stream",
     "text": [
      "len(list_set1): 79\n",
      "list_set1: [3, 4, 5, 6, 7, 8, 10, 12, 14, 15, 17, 20, 22, 24, 25, 26, 28, 30, 32, 33, 36, 37, 38, 40, 42, 43, 44, 45, 46, 48, 52, 53, 54, 55, 56, 57, 62, 64, 65, 67, 68, 70, 72, 73, 74, 75, 76, 77, 78, 80, 84, 86, 88, 90, 92, 93, 94, 95, 96, 97, 98, 100]\n",
      "not_in_set1: [61, 71, 99]\n",
      "in_set1: [1, 9, 11, 19, 21, 29, 31, 39, 41, 49, 51, 59, 69, 79, 81, 89, 91]\n",
      "len(list_set1): 62\n",
      "len(not_in_set1): 3\n",
      "len(in_set1): 17\n",
      "set1: {3, 4, 5, 6, 7, 8, 10, 12, 14, 15, 17, 20, 22, 24, 25, 26, 28, 30, 32, 33, 36, 37, 38, 40, 42, 43, 44, 45, 46, 48, 52, 53, 54, 55, 56, 57, 62, 64, 65, 67, 68, 70, 72, 73, 74, 75, 76, 77, 78, 80, 84, 86, 88, 90, 92, 93, 94, 95, 96, 97, 98, 100}\n",
      "len(set1): 62\n"
     ]
    }
   ],
   "source": [
    "list_to_remove = [1, 9, 11, 19, 21, 29, 31, 39, 41, 49, 51, 59, 61, 69, 71, 79, 81, 89, 91, 99]\n",
    "list_set1 = list(set1)\n",
    "not_in_set1 = []\n",
    "in_set1 = []\n",
    "\n",
    "print('len(list_set1): ' + str(len(list_set1)))\n",
    "\n",
    "for a in list_to_remove:\n",
    "    if a in list_set1:\n",
    "        in_set1.append(a)\n",
    "        list_set1.remove(a)\n",
    "    else:\n",
    "        not_in_set1.append(a)\n",
    "\n",
    "print('list_set1: ' + str(list_set1))\n",
    "print('not_in_set1: ' + str(not_in_set1))\n",
    "print('in_set1: ' + str(in_set1))\n",
    "print('len(list_set1): ' + str(len(list_set1)))\n",
    "\n",
    "print('len(not_in_set1): ' + str(len(not_in_set1)))\n",
    "print('len(in_set1): ' + str(len(in_set1)))\n",
    "\n",
    "set1 = set(list_set1)\n",
    "\n",
    "print('set1: ' + str(set1))\n",
    "print('len(set1): ' + str(len(set1)))"
   ]
  },
  {
   "cell_type": "code",
   "execution_count": null,
   "metadata": {},
   "outputs": [],
   "source": []
  },
  {
   "cell_type": "code",
   "execution_count": null,
   "metadata": {},
   "outputs": [],
   "source": []
  }
 ],
 "metadata": {
  "kernelspec": {
   "display_name": "Python 3",
   "language": "python",
   "name": "python3"
  },
  "language_info": {
   "codemirror_mode": {
    "name": "ipython",
    "version": 3
   },
   "file_extension": ".py",
   "mimetype": "text/x-python",
   "name": "python",
   "nbconvert_exporter": "python",
   "pygments_lexer": "ipython3",
   "version": "3.8.5"
  }
 },
 "nbformat": 4,
 "nbformat_minor": 2
}
